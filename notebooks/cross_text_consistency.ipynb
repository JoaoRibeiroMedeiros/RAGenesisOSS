{
 "cells": [
  {
   "cell_type": "code",
   "execution_count": 170,
   "metadata": {},
   "outputs": [
    {
     "name": "stdout",
     "output_type": "stream",
     "text": [
      "The autoreload extension is already loaded. To reload it, use:\n",
      "  %reload_ext autoreload\n"
     ]
    }
   ],
   "source": [
    "%load_ext autoreload\n",
    "%autoreload 2\n",
    "\n",
    "import numpy as np\n",
    "import pandas as pd\n",
    "\n",
    "from src.retriever import get_embeddings_for_target_text, search_and_filter_similar_vectors\n",
    "from src.utils import connect_and_load_milvus_collection\n",
    "\n",
    "import matplotlib.pyplot as plt\n",
    "import seaborn as sns\n",
    "from matplotlib import cm\n",
    "\n",
    "from src.retriever import *\n",
    "\n",
    "from src.ssn import ( get_similarity_fraction_at_threshold, get_similarity_fraction_at_threshold_dict_for_all_texts_and_encoder_models, \n",
    "                     get_cross_text_consistency, get_from_encoder_to_cross_text_consistency )\n",
    "from src.consistency_plots import ( plot_heatmap_for_similarity_fraction, plot_heatmap_for_similarity_fraction_plotly, \n",
    "                                   plot_heatmap_for_cross_text_consistency, plot_heatmap_for_cross_text_consistency_plotly)\n",
    "\n",
    "from tqdm import tqdm\n",
    "\n",
    "import numpy as np\n",
    "\n",
    "import networkx as nx\n"
   ]
  },
  {
   "cell_type": "markdown",
   "metadata": {},
   "source": [
    "## Exploring Cross-Text Consistency\n",
    "\n",
    "In this section, we will explore the cross-text consistency based on the cosine similarity of vector embeddings for two embedding models. This analysis will help us understand how similar the texts are when represented in different embedding spaces."
   ]
  },
  {
   "cell_type": "code",
   "execution_count": 110,
   "metadata": {},
   "outputs": [],
   "source": [
    "\n",
    "texts = [\"Bible_NT\", \"Quran\", \"Torah\", \"Gita\", \"Analects\"]  # \"Bible\",\n",
    "encoder_models = [\"jina_clip_v1\",\"all_MiniLM_L6_v2\" ]\n",
    "parameters = [0.5, 0.75]\n",
    "parameter_path_dict = {\"0.5\" : \"05_threshold\" , \"0.75\" : \"075_threshold\"}\n",
    "similarity_threshold = 0.75\n",
    "parameter = parameter_path_dict[str(similarity_threshold)]"
   ]
  },
  {
   "cell_type": "markdown",
   "metadata": {},
   "source": [
    "Get similarity fraction for all encoder models and all books in the knowledge base:"
   ]
  },
  {
   "cell_type": "code",
   "execution_count": 111,
   "metadata": {},
   "outputs": [
    {
     "name": "stderr",
     "output_type": "stream",
     "text": [
      "  0%|          | 0/5 [00:00<?, ?it/s]"
     ]
    },
    {
     "name": "stdout",
     "output_type": "stream",
     "text": [
      "Torah Torah\n"
     ]
    },
    {
     "name": "stderr",
     "output_type": "stream",
     "text": [
      "100%|██████████| 5852/5852 [01:48<00:00, 54.09it/s]\n"
     ]
    },
    {
     "name": "stdout",
     "output_type": "stream",
     "text": [
      "Torah Quran\n"
     ]
    },
    {
     "name": "stderr",
     "output_type": "stream",
     "text": [
      "100%|██████████| 5852/5852 [01:42<00:00, 57.15it/s]\n"
     ]
    },
    {
     "name": "stdout",
     "output_type": "stream",
     "text": [
      "Torah Bible_NT\n"
     ]
    },
    {
     "name": "stderr",
     "output_type": "stream",
     "text": [
      "100%|██████████| 5852/5852 [01:46<00:00, 54.96it/s]\n"
     ]
    },
    {
     "name": "stdout",
     "output_type": "stream",
     "text": [
      "Torah Gita\n"
     ]
    },
    {
     "name": "stderr",
     "output_type": "stream",
     "text": [
      "100%|██████████| 5852/5852 [02:52<00:00, 33.90it/s]\n"
     ]
    },
    {
     "name": "stdout",
     "output_type": "stream",
     "text": [
      "Torah Analects\n"
     ]
    },
    {
     "name": "stderr",
     "output_type": "stream",
     "text": [
      "100%|██████████| 5852/5852 [02:18<00:00, 42.30it/s]\n",
      " 20%|██        | 1/5 [10:35<42:21, 635.37s/it]"
     ]
    },
    {
     "name": "stdout",
     "output_type": "stream",
     "text": [
      "Quran Torah\n"
     ]
    },
    {
     "name": "stderr",
     "output_type": "stream",
     "text": [
      "100%|██████████| 6236/6236 [01:40<00:00, 61.99it/s]\n"
     ]
    },
    {
     "name": "stdout",
     "output_type": "stream",
     "text": [
      "Quran Quran\n"
     ]
    },
    {
     "name": "stderr",
     "output_type": "stream",
     "text": [
      "100%|██████████| 6236/6236 [02:05<00:00, 49.61it/s]\n"
     ]
    },
    {
     "name": "stdout",
     "output_type": "stream",
     "text": [
      "Quran Bible_NT\n"
     ]
    },
    {
     "name": "stderr",
     "output_type": "stream",
     "text": [
      "100%|██████████| 6236/6236 [02:00<00:00, 51.58it/s]\n"
     ]
    },
    {
     "name": "stdout",
     "output_type": "stream",
     "text": [
      "Quran Gita\n"
     ]
    },
    {
     "name": "stderr",
     "output_type": "stream",
     "text": [
      "100%|██████████| 6236/6236 [03:06<00:00, 33.49it/s]\n"
     ]
    },
    {
     "name": "stdout",
     "output_type": "stream",
     "text": [
      "Quran Analects\n"
     ]
    },
    {
     "name": "stderr",
     "output_type": "stream",
     "text": [
      "100%|██████████| 6236/6236 [02:27<00:00, 42.23it/s]\n",
      " 40%|████      | 2/5 [22:03<33:18, 666.28s/it]"
     ]
    },
    {
     "name": "stdout",
     "output_type": "stream",
     "text": [
      "Bible_NT Torah\n"
     ]
    },
    {
     "name": "stderr",
     "output_type": "stream",
     "text": [
      "100%|██████████| 7957/7957 [02:14<00:00, 59.29it/s]\n"
     ]
    },
    {
     "name": "stdout",
     "output_type": "stream",
     "text": [
      "Bible_NT Quran\n"
     ]
    },
    {
     "name": "stderr",
     "output_type": "stream",
     "text": [
      "100%|██████████| 7957/7957 [02:25<00:00, 54.62it/s]\n"
     ]
    },
    {
     "name": "stdout",
     "output_type": "stream",
     "text": [
      "Bible_NT Bible_NT\n"
     ]
    },
    {
     "name": "stderr",
     "output_type": "stream",
     "text": [
      "100%|██████████| 7957/7957 [02:39<00:00, 50.02it/s]\n"
     ]
    },
    {
     "name": "stdout",
     "output_type": "stream",
     "text": [
      "Bible_NT Gita\n"
     ]
    },
    {
     "name": "stderr",
     "output_type": "stream",
     "text": [
      "100%|██████████| 7957/7957 [03:52<00:00, 34.25it/s]\n"
     ]
    },
    {
     "name": "stdout",
     "output_type": "stream",
     "text": [
      "Bible_NT Analects\n"
     ]
    },
    {
     "name": "stderr",
     "output_type": "stream",
     "text": [
      "100%|██████████| 7957/7957 [02:58<00:00, 44.69it/s]\n",
      " 60%|██████    | 3/5 [36:21<25:07, 753.83s/it]"
     ]
    },
    {
     "name": "stdout",
     "output_type": "stream",
     "text": [
      "Gita Torah\n"
     ]
    },
    {
     "name": "stderr",
     "output_type": "stream",
     "text": [
      "100%|██████████| 625/625 [00:09<00:00, 66.94it/s]\n"
     ]
    },
    {
     "name": "stdout",
     "output_type": "stream",
     "text": [
      "Gita Quran\n"
     ]
    },
    {
     "name": "stderr",
     "output_type": "stream",
     "text": [
      "100%|██████████| 625/625 [00:10<00:00, 60.34it/s]\n"
     ]
    },
    {
     "name": "stdout",
     "output_type": "stream",
     "text": [
      "Gita Bible_NT\n"
     ]
    },
    {
     "name": "stderr",
     "output_type": "stream",
     "text": [
      "100%|██████████| 625/625 [00:09<00:00, 63.67it/s]\n"
     ]
    },
    {
     "name": "stdout",
     "output_type": "stream",
     "text": [
      "Gita Gita\n"
     ]
    },
    {
     "name": "stderr",
     "output_type": "stream",
     "text": [
      "100%|██████████| 625/625 [00:17<00:00, 34.73it/s]\n"
     ]
    },
    {
     "name": "stdout",
     "output_type": "stream",
     "text": [
      "Gita Analects\n"
     ]
    },
    {
     "name": "stderr",
     "output_type": "stream",
     "text": [
      "100%|██████████| 625/625 [00:14<00:00, 43.97it/s]\n",
      " 80%|████████  | 4/5 [37:24<08:01, 481.20s/it]"
     ]
    },
    {
     "name": "stdout",
     "output_type": "stream",
     "text": [
      "Analects Torah\n"
     ]
    },
    {
     "name": "stderr",
     "output_type": "stream",
     "text": [
      "100%|██████████| 477/477 [00:06<00:00, 68.52it/s]\n"
     ]
    },
    {
     "name": "stdout",
     "output_type": "stream",
     "text": [
      "Analects Quran\n"
     ]
    },
    {
     "name": "stderr",
     "output_type": "stream",
     "text": [
      "100%|██████████| 477/477 [00:07<00:00, 66.47it/s]\n"
     ]
    },
    {
     "name": "stdout",
     "output_type": "stream",
     "text": [
      "Analects Bible_NT\n"
     ]
    },
    {
     "name": "stderr",
     "output_type": "stream",
     "text": [
      "100%|██████████| 477/477 [00:06<00:00, 70.93it/s]\n"
     ]
    },
    {
     "name": "stdout",
     "output_type": "stream",
     "text": [
      "Analects Gita\n"
     ]
    },
    {
     "name": "stderr",
     "output_type": "stream",
     "text": [
      "100%|██████████| 477/477 [00:13<00:00, 34.25it/s]\n"
     ]
    },
    {
     "name": "stdout",
     "output_type": "stream",
     "text": [
      "Analects Analects\n"
     ]
    },
    {
     "name": "stderr",
     "output_type": "stream",
     "text": [
      "100%|██████████| 477/477 [00:10<00:00, 44.06it/s]\n",
      "100%|██████████| 5/5 [38:11<00:00, 458.31s/it]\n",
      "  0%|          | 0/5 [00:00<?, ?it/s]"
     ]
    },
    {
     "name": "stdout",
     "output_type": "stream",
     "text": [
      "Torah Torah\n"
     ]
    },
    {
     "name": "stderr",
     "output_type": "stream",
     "text": [
      "100%|██████████| 5852/5852 [01:05<00:00, 88.87it/s]\n"
     ]
    },
    {
     "name": "stdout",
     "output_type": "stream",
     "text": [
      "Torah Quran\n"
     ]
    },
    {
     "name": "stderr",
     "output_type": "stream",
     "text": [
      "100%|██████████| 5852/5852 [00:59<00:00, 98.97it/s]\n"
     ]
    },
    {
     "name": "stdout",
     "output_type": "stream",
     "text": [
      "Torah Bible_NT\n"
     ]
    },
    {
     "name": "stderr",
     "output_type": "stream",
     "text": [
      "100%|██████████| 5852/5852 [01:05<00:00, 89.91it/s]\n"
     ]
    },
    {
     "name": "stdout",
     "output_type": "stream",
     "text": [
      "Torah Gita\n"
     ]
    },
    {
     "name": "stderr",
     "output_type": "stream",
     "text": [
      "100%|██████████| 5852/5852 [01:42<00:00, 57.26it/s]\n"
     ]
    },
    {
     "name": "stdout",
     "output_type": "stream",
     "text": [
      "Torah Analects\n"
     ]
    },
    {
     "name": "stderr",
     "output_type": "stream",
     "text": [
      "100%|██████████| 5852/5852 [01:18<00:00, 74.32it/s]\n",
      " 20%|██        | 1/5 [06:15<25:00, 375.02s/it]"
     ]
    },
    {
     "name": "stdout",
     "output_type": "stream",
     "text": [
      "Quran Torah\n"
     ]
    },
    {
     "name": "stderr",
     "output_type": "stream",
     "text": [
      "100%|██████████| 6236/6236 [01:02<00:00, 100.35it/s]\n"
     ]
    },
    {
     "name": "stdout",
     "output_type": "stream",
     "text": [
      "Quran Quran\n"
     ]
    },
    {
     "name": "stderr",
     "output_type": "stream",
     "text": [
      "100%|██████████| 6236/6236 [01:12<00:00, 86.41it/s] \n"
     ]
    },
    {
     "name": "stdout",
     "output_type": "stream",
     "text": [
      "Quran Bible_NT\n"
     ]
    },
    {
     "name": "stderr",
     "output_type": "stream",
     "text": [
      "100%|██████████| 6236/6236 [01:06<00:00, 94.33it/s]\n"
     ]
    },
    {
     "name": "stdout",
     "output_type": "stream",
     "text": [
      "Quran Gita\n"
     ]
    },
    {
     "name": "stderr",
     "output_type": "stream",
     "text": [
      "100%|██████████| 6236/6236 [01:47<00:00, 57.84it/s]\n"
     ]
    },
    {
     "name": "stdout",
     "output_type": "stream",
     "text": [
      "Quran Analects\n"
     ]
    },
    {
     "name": "stderr",
     "output_type": "stream",
     "text": [
      "100%|██████████| 6236/6236 [01:22<00:00, 75.43it/s]\n",
      " 40%|████      | 2/5 [12:49<19:20, 386.68s/it]"
     ]
    },
    {
     "name": "stdout",
     "output_type": "stream",
     "text": [
      "Bible_NT Torah\n"
     ]
    },
    {
     "name": "stderr",
     "output_type": "stream",
     "text": [
      "100%|██████████| 7957/7957 [01:19<00:00, 100.68it/s]\n"
     ]
    },
    {
     "name": "stdout",
     "output_type": "stream",
     "text": [
      "Bible_NT Quran\n"
     ]
    },
    {
     "name": "stderr",
     "output_type": "stream",
     "text": [
      "100%|██████████| 7957/7957 [01:27<00:00, 91.00it/s] \n"
     ]
    },
    {
     "name": "stdout",
     "output_type": "stream",
     "text": [
      "Bible_NT Bible_NT\n"
     ]
    },
    {
     "name": "stderr",
     "output_type": "stream",
     "text": [
      "100%|██████████| 7957/7957 [01:31<00:00, 86.63it/s]\n"
     ]
    },
    {
     "name": "stdout",
     "output_type": "stream",
     "text": [
      "Bible_NT Gita\n"
     ]
    },
    {
     "name": "stderr",
     "output_type": "stream",
     "text": [
      "100%|██████████| 7957/7957 [02:20<00:00, 56.60it/s]\n"
     ]
    },
    {
     "name": "stdout",
     "output_type": "stream",
     "text": [
      "Bible_NT Analects\n"
     ]
    },
    {
     "name": "stderr",
     "output_type": "stream",
     "text": [
      "100%|██████████| 7957/7957 [01:53<00:00, 70.33it/s]\n",
      " 60%|██████    | 3/5 [21:27<14:52, 446.30s/it]"
     ]
    },
    {
     "name": "stdout",
     "output_type": "stream",
     "text": [
      "Gita Torah\n"
     ]
    },
    {
     "name": "stderr",
     "output_type": "stream",
     "text": [
      "100%|██████████| 625/625 [00:05<00:00, 104.50it/s]\n"
     ]
    },
    {
     "name": "stdout",
     "output_type": "stream",
     "text": [
      "Gita Quran\n"
     ]
    },
    {
     "name": "stderr",
     "output_type": "stream",
     "text": [
      "100%|██████████| 625/625 [00:06<00:00, 101.94it/s]\n"
     ]
    },
    {
     "name": "stdout",
     "output_type": "stream",
     "text": [
      "Gita Bible_NT\n"
     ]
    },
    {
     "name": "stderr",
     "output_type": "stream",
     "text": [
      "100%|██████████| 625/625 [00:06<00:00, 94.86it/s]\n"
     ]
    },
    {
     "name": "stdout",
     "output_type": "stream",
     "text": [
      "Gita Gita\n"
     ]
    },
    {
     "name": "stderr",
     "output_type": "stream",
     "text": [
      "100%|██████████| 625/625 [00:10<00:00, 60.08it/s]\n"
     ]
    },
    {
     "name": "stdout",
     "output_type": "stream",
     "text": [
      "Gita Analects\n"
     ]
    },
    {
     "name": "stderr",
     "output_type": "stream",
     "text": [
      "100%|██████████| 625/625 [00:08<00:00, 76.70it/s]\n",
      " 80%|████████  | 4/5 [22:05<04:45, 285.27s/it]"
     ]
    },
    {
     "name": "stdout",
     "output_type": "stream",
     "text": [
      "Analects Torah\n"
     ]
    },
    {
     "name": "stderr",
     "output_type": "stream",
     "text": [
      "100%|██████████| 477/477 [00:04<00:00, 114.27it/s]\n"
     ]
    },
    {
     "name": "stdout",
     "output_type": "stream",
     "text": [
      "Analects Quran\n"
     ]
    },
    {
     "name": "stderr",
     "output_type": "stream",
     "text": [
      "100%|██████████| 477/477 [00:05<00:00, 84.25it/s]\n"
     ]
    },
    {
     "name": "stdout",
     "output_type": "stream",
     "text": [
      "Analects Bible_NT\n"
     ]
    },
    {
     "name": "stderr",
     "output_type": "stream",
     "text": [
      "100%|██████████| 477/477 [00:04<00:00, 96.50it/s] \n"
     ]
    },
    {
     "name": "stdout",
     "output_type": "stream",
     "text": [
      "Analects Gita\n"
     ]
    },
    {
     "name": "stderr",
     "output_type": "stream",
     "text": [
      "100%|██████████| 477/477 [00:08<00:00, 55.99it/s]\n"
     ]
    },
    {
     "name": "stdout",
     "output_type": "stream",
     "text": [
      "Analects Analects\n"
     ]
    },
    {
     "name": "stderr",
     "output_type": "stream",
     "text": [
      "100%|██████████| 477/477 [00:06<00:00, 76.95it/s]\n",
      "100%|██████████| 5/5 [22:36<00:00, 271.22s/it]\n"
     ]
    }
   ],
   "source": [
    "similarity_fraction_at_threshold_dict = get_similarity_fraction_at_threshold_dict_for_all_texts_and_encoder_models(encoder_models, similarity_threshold = 0.75, texts=[\"Torah\", \"Quran\", \"Bible_NT\", \"Gita\", \"Analects\"])"
   ]
  },
  {
   "cell_type": "markdown",
   "metadata": {},
   "source": [
    "Plot results for similarity fraction:"
   ]
  },
  {
   "cell_type": "code",
   "execution_count": 112,
   "metadata": {},
   "outputs": [
    {
     "data": {
      "image/png": "[encoded data removed]",
      "text/plain": [
       "<Figure size 800x600 with 2 Axes>"
      ]
     },
     "metadata": {},
     "output_type": "display_data"
    },
    {
     "data": {
      "application/vnd.plotly.v1+json": {
       "config": {
        "plotlyServerURL": "https://plot.ly"
       },
       "data": [
        {
         "coloraxis": "coloraxis",
         "hovertemplate": "<b>%{x}</b><br><b>%{y}</b><br>Value: %{z:.2f}<extra></extra>",
         "name": "0",
         "type": "heatmap",
         "x": [
          "Torah",
          "Quran",
          "Bible_NT",
          "Gita",
          "Analects"
         ],
         "xaxis": "x",
         "y": [
          "Torah",
          "Quran",
          "Bible_NT",
          "Gita",
          "Analects"
         ],
         "yaxis": "y",
         "z": [
          [
           0.0006532168051396745,
           0,
           6.442695104780127e-7,
           0,
           0
          ],
          [
           0,
           0.00024357318571920536,
           0,
           0,
           0
          ],
          [
           7.086964615258141e-7,
           0,
           0.0001668197427074762,
           0,
           0
          ],
          [
           0,
           0,
           0,
           0.001728,
           0
          ],
          [
           0,
           0,
           0,
           0,
           0.0022634477363325115
          ]
         ]
        }
       ],
       "layout": {
        "coloraxis": {
         "cmax": 0.0022634477363325115,
         "cmin": 0,
         "colorbar": {
          "title": {
           "text": "Values"
          }
         },
         "colorscale": [
          [
           0,
           "rgb(255,255,217)"
          ],
          [
           0.125,
           "rgb(237,248,177)"
          ],
          [
           0.25,
           "rgb(199,233,180)"
          ],
          [
           0.375,
           "rgb(127,205,187)"
          ],
          [
           0.5,
           "rgb(65,182,196)"
          ],
          [
           0.625,
           "rgb(29,145,192)"
          ],
          [
           0.75,
           "rgb(34,94,168)"
          ],
          [
           0.875,
           "rgb(37,52,148)"
          ],
          [
           1,
           "rgb(8,29,88)"
          ]
         ]
        },
        "margin": {
         "t": 60
        },
        "template": {
         "data": {
          "candlestick": [
           {
            "decreasing": {
             "line": {
              "color": "#000033"
             }
            },
            "increasing": {
             "line": {
              "color": "#000032"
             }
            },
            "type": "candlestick"
           }
          ],
          "contour": [
           {
            "colorscale": [
             [
              0,
              "#000011"
             ],
             [
              0.1111111111111111,
              "#000012"
             ],
             [
              0.2222222222222222,
              "#000013"
             ],
             [
              0.3333333333333333,
              "#000014"
             ],
             [
              0.4444444444444444,
              "#000015"
             ],
             [
              0.5555555555555556,
              "#000016"
             ],
             [
              0.6666666666666666,
              "#000017"
             ],
             [
              0.7777777777777778,
              "#000018"
             ],
             [
              0.8888888888888888,
              "#000019"
             ],
             [
              1,
              "#000020"
             ]
            ],
            "type": "contour"
           }
          ],
          "contourcarpet": [
           {
            "colorscale": [
             [
              0,
              "#000011"
             ],
             [
              0.1111111111111111,
              "#000012"
             ],
             [
              0.2222222222222222,
              "#000013"
             ],
             [
              0.3333333333333333,
              "#000014"
             ],
             [
              0.4444444444444444,
              "#000015"
             ],
             [
              0.5555555555555556,
              "#000016"
             ],
             [
              0.6666666666666666,
              "#000017"
             ],
             [
              0.7777777777777778,
              "#000018"
             ],
             [
              0.8888888888888888,
              "#000019"
             ],
             [
              1,
              "#000020"
             ]
            ],
            "type": "contourcarpet"
           }
          ],
          "heatmap": [
           {
            "colorscale": [
             [
              0,
              "#000011"
             ],
             [
              0.1111111111111111,
              "#000012"
             ],
             [
              0.2222222222222222,
              "#000013"
             ],
             [
              0.3333333333333333,
              "#000014"
             ],
             [
              0.4444444444444444,
              "#000015"
             ],
             [
              0.5555555555555556,
              "#000016"
             ],
             [
              0.6666666666666666,
              "#000017"
             ],
             [
              0.7777777777777778,
              "#000018"
             ],
             [
              0.8888888888888888,
              "#000019"
             ],
             [
              1,
              "#000020"
             ]
            ],
            "type": "heatmap"
           }
          ],
          "histogram2d": [
           {
            "colorscale": [
             [
              0,
              "#000011"
             ],
             [
              0.1111111111111111,
              "#000012"
             ],
             [
              0.2222222222222222,
              "#000013"
             ],
             [
              0.3333333333333333,
              "#000014"
             ],
             [
              0.4444444444444444,
              "#000015"
             ],
             [
              0.5555555555555556,
              "#000016"
             ],
             [
              0.6666666666666666,
              "#000017"
             ],
             [
              0.7777777777777778,
              "#000018"
             ],
             [
              0.8888888888888888,
              "#000019"
             ],
             [
              1,
              "#000020"
             ]
            ],
            "type": "histogram2d"
           }
          ],
          "icicle": [
           {
            "textfont": {
             "color": "white"
            },
            "type": "icicle"
           }
          ],
          "sankey": [
           {
            "textfont": {
             "color": "#000036"
            },
            "type": "sankey"
           }
          ],
          "scatter": [
           {
            "marker": {
             "line": {
              "width": 0
             }
            },
            "type": "scatter"
           }
          ],
          "table": [
           {
            "cells": {
             "fill": {
              "color": "#000038"
             },
             "font": {
              "color": "#000037"
             },
             "line": {
              "color": "#000039"
             }
            },
            "header": {
             "fill": {
              "color": "#000040"
             },
             "font": {
              "color": "#000036"
             },
             "line": {
              "color": "#000039"
             }
            },
            "type": "table"
           }
          ],
          "waterfall": [
           {
            "connector": {
             "line": {
              "color": "#000036",
              "width": 2
             }
            },
            "decreasing": {
             "marker": {
              "color": "#000033"
             }
            },
            "increasing": {
             "marker": {
              "color": "#000032"
             }
            },
            "totals": {
             "marker": {
              "color": "#000034"
             }
            },
            "type": "waterfall"
           }
          ]
         },
         "layout": {
          "coloraxis": {
           "colorscale": [
            [
             0,
             "#000011"
            ],
            [
             0.1111111111111111,
             "#000012"
            ],
            [
             0.2222222222222222,
             "#000013"
            ],
            [
             0.3333333333333333,
             "#000014"
            ],
            [
             0.4444444444444444,
             "#000015"
            ],
            [
             0.5555555555555556,
             "#000016"
            ],
            [
             0.6666666666666666,
             "#000017"
            ],
            [
             0.7777777777777778,
             "#000018"
            ],
            [
             0.8888888888888888,
             "#000019"
            ],
            [
             1,
             "#000020"
            ]
           ]
          },
          "colorscale": {
           "diverging": [
            [
             0,
             "#000021"
            ],
            [
             0.1,
             "#000022"
            ],
            [
             0.2,
             "#000023"
            ],
            [
             0.3,
             "#000024"
            ],
            [
             0.4,
             "#000025"
            ],
            [
             0.5,
             "#000026"
            ],
            [
             0.6,
             "#000027"
            ],
            [
             0.7,
             "#000028"
            ],
            [
             0.8,
             "#000029"
            ],
            [
             0.9,
             "#000030"
            ],
            [
             1,
             "#000031"
            ]
           ],
           "sequential": [
            [
             0,
             "#000011"
            ],
            [
             0.1111111111111111,
             "#000012"
            ],
            [
             0.2222222222222222,
             "#000013"
            ],
            [
             0.3333333333333333,
             "#000014"
            ],
            [
             0.4444444444444444,
             "#000015"
            ],
            [
             0.5555555555555556,
             "#000016"
            ],
            [
             0.6666666666666666,
             "#000017"
            ],
            [
             0.7777777777777778,
             "#000018"
            ],
            [
             0.8888888888888888,
             "#000019"
            ],
            [
             1,
             "#000020"
            ]
           ],
           "sequentialminus": [
            [
             0,
             "#000011"
            ],
            [
             0.1111111111111111,
             "#000012"
            ],
            [
             0.2222222222222222,
             "#000013"
            ],
            [
             0.3333333333333333,
             "#000014"
            ],
            [
             0.4444444444444444,
             "#000015"
            ],
            [
             0.5555555555555556,
             "#000016"
            ],
            [
             0.6666666666666666,
             "#000017"
            ],
            [
             0.7777777777777778,
             "#000018"
            ],
            [
             0.8888888888888888,
             "#000019"
            ],
            [
             1,
             "#000020"
            ]
           ]
          },
          "colorway": [
           "#000001",
           "#000002",
           "#000003",
           "#000004",
           "#000005",
           "#000006",
           "#000007",
           "#000008",
           "#000009",
           "#000010"
          ]
         }
        },
        "title": {
         "text": "Similarity Fraction at Threshold 0.75 - jina_clip_v1"
        },
        "xaxis": {
         "anchor": "y",
         "constrain": "domain",
         "domain": [
          0,
          1
         ],
         "scaleanchor": "y",
         "title": {
          "text": "Texts"
         }
        },
        "yaxis": {
         "anchor": "x",
         "autorange": "reversed",
         "constrain": "domain",
         "domain": [
          0,
          1
         ],
         "title": {
          "text": "Texts"
         }
        }
       }
      }
     },
     "metadata": {},
     "output_type": "display_data"
    },
    {
     "data": {
      "image/png": "[encoded data removed]",
      "text/plain": [
       "<Figure size 800x600 with 2 Axes>"
      ]
     },
     "metadata": {},
     "output_type": "display_data"
    },
    {
     "data": {
      "application/vnd.plotly.v1+json": {
       "config": {
        "plotlyServerURL": "https://plot.ly"
       },
       "data": [
        {
         "coloraxis": "coloraxis",
         "hovertemplate": "<b>%{x}</b><br><b>%{y}</b><br>Value: %{z:.2f}<extra></extra>",
         "name": "0",
         "type": "heatmap",
         "x": [
          "Torah",
          "Quran",
          "Bible_NT",
          "Gita",
          "Analects"
         ],
         "xaxis": "x",
         "y": [
          "Torah",
          "Quran",
          "Bible_NT",
          "Gita",
          "Analects"
         ],
         "yaxis": "y",
         "z": [
          [
           0.0008280114316736974,
           0.0000016989526121560828,
           0.0000015032955244486964,
           0,
           0
          ],
          [
           0.0000016989526121560828,
           0.00023855874619056885,
           0,
           0,
           0
          ],
          [
           0.0000015032955244486964,
           0,
           0.00017808110197186085,
           0,
           0
          ],
          [
           0,
           0,
           0,
           0.0017536,
           0
          ],
          [
           0,
           0,
           0,
           0,
           0.00275569268093298
          ]
         ]
        }
       ],
       "layout": {
        "coloraxis": {
         "cmax": 0.00275569268093298,
         "cmin": 0,
         "colorbar": {
          "title": {
           "text": "Values"
          }
         },
         "colorscale": [
          [
           0,
           "rgb(255,255,217)"
          ],
          [
           0.125,
           "rgb(237,248,177)"
          ],
          [
           0.25,
           "rgb(199,233,180)"
          ],
          [
           0.375,
           "rgb(127,205,187)"
          ],
          [
           0.5,
           "rgb(65,182,196)"
          ],
          [
           0.625,
           "rgb(29,145,192)"
          ],
          [
           0.75,
           "rgb(34,94,168)"
          ],
          [
           0.875,
           "rgb(37,52,148)"
          ],
          [
           1,
           "rgb(8,29,88)"
          ]
         ]
        },
        "margin": {
         "t": 60
        },
        "template": {
         "data": {
          "candlestick": [
           {
            "decreasing": {
             "line": {
              "color": "#000033"
             }
            },
            "increasing": {
             "line": {
              "color": "#000032"
             }
            },
            "type": "candlestick"
           }
          ],
          "contour": [
           {
            "colorscale": [
             [
              0,
              "#000011"
             ],
             [
              0.1111111111111111,
              "#000012"
             ],
             [
              0.2222222222222222,
              "#000013"
             ],
             [
              0.3333333333333333,
              "#000014"
             ],
             [
              0.4444444444444444,
              "#000015"
             ],
             [
              0.5555555555555556,
              "#000016"
             ],
             [
              0.6666666666666666,
              "#000017"
             ],
             [
              0.7777777777777778,
              "#000018"
             ],
             [
              0.8888888888888888,
              "#000019"
             ],
             [
              1,
              "#000020"
             ]
            ],
            "type": "contour"
           }
          ],
          "contourcarpet": [
           {
            "colorscale": [
             [
              0,
              "#000011"
             ],
             [
              0.1111111111111111,
              "#000012"
             ],
             [
              0.2222222222222222,
              "#000013"
             ],
             [
              0.3333333333333333,
              "#000014"
             ],
             [
              0.4444444444444444,
              "#000015"
             ],
             [
              0.5555555555555556,
              "#000016"
             ],
             [
              0.6666666666666666,
              "#000017"
             ],
             [
              0.7777777777777778,
              "#000018"
             ],
             [
              0.8888888888888888,
              "#000019"
             ],
             [
              1,
              "#000020"
             ]
            ],
            "type": "contourcarpet"
           }
          ],
          "heatmap": [
           {
            "colorscale": [
             [
              0,
              "#000011"
             ],
             [
              0.1111111111111111,
              "#000012"
             ],
             [
              0.2222222222222222,
              "#000013"
             ],
             [
              0.3333333333333333,
              "#000014"
             ],
             [
              0.4444444444444444,
              "#000015"
             ],
             [
              0.5555555555555556,
              "#000016"
             ],
             [
              0.6666666666666666,
              "#000017"
             ],
             [
              0.7777777777777778,
              "#000018"
             ],
             [
              0.8888888888888888,
              "#000019"
             ],
             [
              1,
              "#000020"
             ]
            ],
            "type": "heatmap"
           }
          ],
          "histogram2d": [
           {
            "colorscale": [
             [
              0,
              "#000011"
             ],
             [
              0.1111111111111111,
              "#000012"
             ],
             [
              0.2222222222222222,
              "#000013"
             ],
             [
              0.3333333333333333,
              "#000014"
             ],
             [
              0.4444444444444444,
              "#000015"
             ],
             [
              0.5555555555555556,
              "#000016"
             ],
             [
              0.6666666666666666,
              "#000017"
             ],
             [
              0.7777777777777778,
              "#000018"
             ],
             [
              0.8888888888888888,
              "#000019"
             ],
             [
              1,
              "#000020"
             ]
            ],
            "type": "histogram2d"
           }
          ],
          "icicle": [
           {
            "textfont": {
             "color": "white"
            },
            "type": "icicle"
           }
          ],
          "sankey": [
           {
            "textfont": {
             "color": "#000036"
            },
            "type": "sankey"
           }
          ],
          "scatter": [
           {
            "marker": {
             "line": {
              "width": 0
             }
            },
            "type": "scatter"
           }
          ],
          "table": [
           {
            "cells": {
             "fill": {
              "color": "#000038"
             },
             "font": {
              "color": "#000037"
             },
             "line": {
              "color": "#000039"
             }
            },
            "header": {
             "fill": {
              "color": "#000040"
             },
             "font": {
              "color": "#000036"
             },
             "line": {
              "color": "#000039"
             }
            },
            "type": "table"
           }
          ],
          "waterfall": [
           {
            "connector": {
             "line": {
              "color": "#000036",
              "width": 2
             }
            },
            "decreasing": {
             "marker": {
              "color": "#000033"
             }
            },
            "increasing": {
             "marker": {
              "color": "#000032"
             }
            },
            "totals": {
             "marker": {
              "color": "#000034"
             }
            },
            "type": "waterfall"
           }
          ]
         },
         "layout": {
          "coloraxis": {
           "colorscale": [
            [
             0,
             "#000011"
            ],
            [
             0.1111111111111111,
             "#000012"
            ],
            [
             0.2222222222222222,
             "#000013"
            ],
            [
             0.3333333333333333,
             "#000014"
            ],
            [
             0.4444444444444444,
             "#000015"
            ],
            [
             0.5555555555555556,
             "#000016"
            ],
            [
             0.6666666666666666,
             "#000017"
            ],
            [
             0.7777777777777778,
             "#000018"
            ],
            [
             0.8888888888888888,
             "#000019"
            ],
            [
             1,
             "#000020"
            ]
           ]
          },
          "colorscale": {
           "diverging": [
            [
             0,
             "#000021"
            ],
            [
             0.1,
             "#000022"
            ],
            [
             0.2,
             "#000023"
            ],
            [
             0.3,
             "#000024"
            ],
            [
             0.4,
             "#000025"
            ],
            [
             0.5,
             "#000026"
            ],
            [
             0.6,
             "#000027"
            ],
            [
             0.7,
             "#000028"
            ],
            [
             0.8,
             "#000029"
            ],
            [
             0.9,
             "#000030"
            ],
            [
             1,
             "#000031"
            ]
           ],
           "sequential": [
            [
             0,
             "#000011"
            ],
            [
             0.1111111111111111,
             "#000012"
            ],
            [
             0.2222222222222222,
             "#000013"
            ],
            [
             0.3333333333333333,
             "#000014"
            ],
            [
             0.4444444444444444,
             "#000015"
            ],
            [
             0.5555555555555556,
             "#000016"
            ],
            [
             0.6666666666666666,
             "#000017"
            ],
            [
             0.7777777777777778,
             "#000018"
            ],
            [
             0.8888888888888888,
             "#000019"
            ],
            [
             1,
             "#000020"
            ]
           ],
           "sequentialminus": [
            [
             0,
             "#000011"
            ],
            [
             0.1111111111111111,
             "#000012"
            ],
            [
             0.2222222222222222,
             "#000013"
            ],
            [
             0.3333333333333333,
             "#000014"
            ],
            [
             0.4444444444444444,
             "#000015"
            ],
            [
             0.5555555555555556,
             "#000016"
            ],
            [
             0.6666666666666666,
             "#000017"
            ],
            [
             0.7777777777777778,
             "#000018"
            ],
            [
             0.8888888888888888,
             "#000019"
            ],
            [
             1,
             "#000020"
            ]
           ]
          },
          "colorway": [
           "#000001",
           "#000002",
           "#000003",
           "#000004",
           "#000005",
           "#000006",
           "#000007",
           "#000008",
           "#000009",
           "#000010"
          ]
         }
        },
        "title": {
         "text": "Similarity Fraction at Threshold 0.75 - all_MiniLM_L6_v2"
        },
        "xaxis": {
         "anchor": "y",
         "constrain": "domain",
         "domain": [
          0,
          1
         ],
         "scaleanchor": "y",
         "title": {
          "text": "Texts"
         }
        },
        "yaxis": {
         "anchor": "x",
         "autorange": "reversed",
         "constrain": "domain",
         "domain": [
          0,
          1
         ],
         "title": {
          "text": "Texts"
         }
        }
       }
      }
     },
     "metadata": {},
     "output_type": "display_data"
    }
   ],
   "source": [
    "for encoder_model in encoder_models:\n",
    "\n",
    "    plot_heatmap_for_similarity_fraction(similarity_fraction_at_threshold_dict[encoder_model], encoder_model)\n",
    "    plot_heatmap_for_similarity_fraction_plotly(similarity_fraction_at_threshold_dict[encoder_model], encoder_model)"
   ]
  },
  {
   "cell_type": "markdown",
   "metadata": {},
   "source": [
    "Get cross text semantic consistency for all encoder models and books in the knowledge base:"
   ]
  },
  {
   "cell_type": "code",
   "execution_count": 168,
   "metadata": {},
   "outputs": [
    {
     "name": "stderr",
     "output_type": "stream",
     "text": [
      "100%|██████████| 5/5 [00:00<00:00, 22310.13it/s]\n",
      "100%|██████████| 5/5 [00:00<00:00, 35971.73it/s]\n"
     ]
    }
   ],
   "source": [
    "cross_text_consistency_formula_1, cross_text_consistency_formula_2 = get_from_encoder_to_cross_text_consistency(similarity_fraction_at_threshold_dict)\n"
   ]
  },
  {
   "cell_type": "markdown",
   "metadata": {},
   "source": [
    "Plot results for cross text semantic consistency:"
   ]
  },
  {
   "cell_type": "code",
   "execution_count": 171,
   "metadata": {},
   "outputs": [
    {
     "data": {
      "image/png": "[encoded data removed]",
      "text/plain": [
       "<Figure size 800x600 with 2 Axes>"
      ]
     },
     "metadata": {},
     "output_type": "display_data"
    },
    {
     "data": {
      "application/vnd.plotly.v1+json": {
       "config": {
        "plotlyServerURL": "https://plot.ly"
       },
       "data": [
        {
         "coloraxis": "coloraxis",
         "hovertemplate": "<b>%{x}</b><br><b>%{y}</b><br>Value: %{z:.2f}<extra></extra>",
         "name": "0",
         "type": "heatmap",
         "x": [
          "Torah",
          "Quran",
          "Bible_NT",
          "Gita",
          "Analects"
         ],
         "xaxis": "x",
         "y": [
          "Torah",
          "Quran",
          "Bible_NT",
          "Gita",
          "Analects"
         ],
         "yaxis": "y",
         "z": [
          [
           1,
           0,
           0.06214555431108003,
           0,
           0
          ],
          [
           0,
           1,
           0,
           0,
           0
          ],
          [
           0.032938320995632084,
           0,
           1,
           0,
           0
          ],
          [
           0,
           0,
           0,
           1,
           0
          ],
          [
           0,
           0,
           0,
           0,
           1
          ]
         ]
        }
       ],
       "layout": {
        "coloraxis": {
         "cmax": 1,
         "cmin": 0,
         "colorbar": {
          "title": {
           "text": "Values"
          }
         },
         "colorscale": [
          [
           0,
           "rgb(255,255,217)"
          ],
          [
           0.125,
           "rgb(237,248,177)"
          ],
          [
           0.25,
           "rgb(199,233,180)"
          ],
          [
           0.375,
           "rgb(127,205,187)"
          ],
          [
           0.5,
           "rgb(65,182,196)"
          ],
          [
           0.625,
           "rgb(29,145,192)"
          ],
          [
           0.75,
           "rgb(34,94,168)"
          ],
          [
           0.875,
           "rgb(37,52,148)"
          ],
          [
           1,
           "rgb(8,29,88)"
          ]
         ]
        },
        "margin": {
         "t": 60
        },
        "template": {
         "data": {
          "candlestick": [
           {
            "decreasing": {
             "line": {
              "color": "#000033"
             }
            },
            "increasing": {
             "line": {
              "color": "#000032"
             }
            },
            "type": "candlestick"
           }
          ],
          "contour": [
           {
            "colorscale": [
             [
              0,
              "#000011"
             ],
             [
              0.1111111111111111,
              "#000012"
             ],
             [
              0.2222222222222222,
              "#000013"
             ],
             [
              0.3333333333333333,
              "#000014"
             ],
             [
              0.4444444444444444,
              "#000015"
             ],
             [
              0.5555555555555556,
              "#000016"
             ],
             [
              0.6666666666666666,
              "#000017"
             ],
             [
              0.7777777777777778,
              "#000018"
             ],
             [
              0.8888888888888888,
              "#000019"
             ],
             [
              1,
              "#000020"
             ]
            ],
            "type": "contour"
           }
          ],
          "contourcarpet": [
           {
            "colorscale": [
             [
              0,
              "#000011"
             ],
             [
              0.1111111111111111,
              "#000012"
             ],
             [
              0.2222222222222222,
              "#000013"
             ],
             [
              0.3333333333333333,
              "#000014"
             ],
             [
              0.4444444444444444,
              "#000015"
             ],
             [
              0.5555555555555556,
              "#000016"
             ],
             [
              0.6666666666666666,
              "#000017"
             ],
             [
              0.7777777777777778,
              "#000018"
             ],
             [
              0.8888888888888888,
              "#000019"
             ],
             [
              1,
              "#000020"
             ]
            ],
            "type": "contourcarpet"
           }
          ],
          "heatmap": [
           {
            "colorscale": [
             [
              0,
              "#000011"
             ],
             [
              0.1111111111111111,
              "#000012"
             ],
             [
              0.2222222222222222,
              "#000013"
             ],
             [
              0.3333333333333333,
              "#000014"
             ],
             [
              0.4444444444444444,
              "#000015"
             ],
             [
              0.5555555555555556,
              "#000016"
             ],
             [
              0.6666666666666666,
              "#000017"
             ],
             [
              0.7777777777777778,
              "#000018"
             ],
             [
              0.8888888888888888,
              "#000019"
             ],
             [
              1,
              "#000020"
             ]
            ],
            "type": "heatmap"
           }
          ],
          "histogram2d": [
           {
            "colorscale": [
             [
              0,
              "#000011"
             ],
             [
              0.1111111111111111,
              "#000012"
             ],
             [
              0.2222222222222222,
              "#000013"
             ],
             [
              0.3333333333333333,
              "#000014"
             ],
             [
              0.4444444444444444,
              "#000015"
             ],
             [
              0.5555555555555556,
              "#000016"
             ],
             [
              0.6666666666666666,
              "#000017"
             ],
             [
              0.7777777777777778,
              "#000018"
             ],
             [
              0.8888888888888888,
              "#000019"
             ],
             [
              1,
              "#000020"
             ]
            ],
            "type": "histogram2d"
           }
          ],
          "icicle": [
           {
            "textfont": {
             "color": "white"
            },
            "type": "icicle"
           }
          ],
          "sankey": [
           {
            "textfont": {
             "color": "#000036"
            },
            "type": "sankey"
           }
          ],
          "scatter": [
           {
            "marker": {
             "line": {
              "width": 0
             }
            },
            "type": "scatter"
           }
          ],
          "table": [
           {
            "cells": {
             "fill": {
              "color": "#000038"
             },
             "font": {
              "color": "#000037"
             },
             "line": {
              "color": "#000039"
             }
            },
            "header": {
             "fill": {
              "color": "#000040"
             },
             "font": {
              "color": "#000036"
             },
             "line": {
              "color": "#000039"
             }
            },
            "type": "table"
           }
          ],
          "waterfall": [
           {
            "connector": {
             "line": {
              "color": "#000036",
              "width": 2
             }
            },
            "decreasing": {
             "marker": {
              "color": "#000033"
             }
            },
            "increasing": {
             "marker": {
              "color": "#000032"
             }
            },
            "totals": {
             "marker": {
              "color": "#000034"
             }
            },
            "type": "waterfall"
           }
          ]
         },
         "layout": {
          "coloraxis": {
           "colorscale": [
            [
             0,
             "#000011"
            ],
            [
             0.1111111111111111,
             "#000012"
            ],
            [
             0.2222222222222222,
             "#000013"
            ],
            [
             0.3333333333333333,
             "#000014"
            ],
            [
             0.4444444444444444,
             "#000015"
            ],
            [
             0.5555555555555556,
             "#000016"
            ],
            [
             0.6666666666666666,
             "#000017"
            ],
            [
             0.7777777777777778,
             "#000018"
            ],
            [
             0.8888888888888888,
             "#000019"
            ],
            [
             1,
             "#000020"
            ]
           ]
          },
          "colorscale": {
           "diverging": [
            [
             0,
             "#000021"
            ],
            [
             0.1,
             "#000022"
            ],
            [
             0.2,
             "#000023"
            ],
            [
             0.3,
             "#000024"
            ],
            [
             0.4,
             "#000025"
            ],
            [
             0.5,
             "#000026"
            ],
            [
             0.6,
             "#000027"
            ],
            [
             0.7,
             "#000028"
            ],
            [
             0.8,
             "#000029"
            ],
            [
             0.9,
             "#000030"
            ],
            [
             1,
             "#000031"
            ]
           ],
           "sequential": [
            [
             0,
             "#000011"
            ],
            [
             0.1111111111111111,
             "#000012"
            ],
            [
             0.2222222222222222,
             "#000013"
            ],
            [
             0.3333333333333333,
             "#000014"
            ],
            [
             0.4444444444444444,
             "#000015"
            ],
            [
             0.5555555555555556,
             "#000016"
            ],
            [
             0.6666666666666666,
             "#000017"
            ],
            [
             0.7777777777777778,
             "#000018"
            ],
            [
             0.8888888888888888,
             "#000019"
            ],
            [
             1,
             "#000020"
            ]
           ],
           "sequentialminus": [
            [
             0,
             "#000011"
            ],
            [
             0.1111111111111111,
             "#000012"
            ],
            [
             0.2222222222222222,
             "#000013"
            ],
            [
             0.3333333333333333,
             "#000014"
            ],
            [
             0.4444444444444444,
             "#000015"
            ],
            [
             0.5555555555555556,
             "#000016"
            ],
            [
             0.6666666666666666,
             "#000017"
            ],
            [
             0.7777777777777778,
             "#000018"
            ],
            [
             0.8888888888888888,
             "#000019"
            ],
            [
             1,
             "#000020"
            ]
           ]
          },
          "colorway": [
           "#000001",
           "#000002",
           "#000003",
           "#000004",
           "#000005",
           "#000006",
           "#000007",
           "#000008",
           "#000009",
           "#000010"
          ]
         }
        },
        "title": {
         "text": "Similarity Fraction at Threshold 0.75 - jina_clip_v1"
        },
        "xaxis": {
         "anchor": "y",
         "constrain": "domain",
         "domain": [
          0,
          1
         ],
         "scaleanchor": "y",
         "title": {
          "text": "Texts"
         }
        },
        "yaxis": {
         "anchor": "x",
         "autorange": "reversed",
         "constrain": "domain",
         "domain": [
          0,
          1
         ],
         "title": {
          "text": "Texts"
         }
        }
       }
      }
     },
     "metadata": {},
     "output_type": "display_data"
    },
    {
     "data": {
      "image/png": "[encoded data removed]",
      "text/plain": [
       "<Figure size 800x600 with 2 Axes>"
      ]
     },
     "metadata": {},
     "output_type": "display_data"
    },
    {
     "data": {
      "application/vnd.plotly.v1+json": {
       "config": {
        "plotlyServerURL": "https://plot.ly"
       },
       "data": [
        {
         "coloraxis": "coloraxis",
         "hovertemplate": "<b>%{x}</b><br><b>%{y}</b><br>Value: %{z:.2f}<extra></extra>",
         "name": "0",
         "type": "heatmap",
         "x": [
          "Torah",
          "Quran",
          "Bible_NT",
          "Gita",
          "Analects"
         ],
         "xaxis": "x",
         "y": [
          "Torah",
          "Quran",
          "Bible_NT",
          "Gita",
          "Analects"
         ],
         "yaxis": "y",
         "z": [
          [
           1,
           0.08439038359789519,
           0.09187836644501757,
           0,
           0
          ],
          [
           0.04529731566991193,
           1,
           0,
           0,
           0
          ],
          [
           0.04260926235863089,
           0,
           1,
           0,
           0
          ],
          [
           0,
           0,
           0,
           1,
           0
          ],
          [
           0,
           0,
           0,
           0,
           1
          ]
         ]
        }
       ],
       "layout": {
        "coloraxis": {
         "cmax": 1,
         "cmin": 0,
         "colorbar": {
          "title": {
           "text": "Values"
          }
         },
         "colorscale": [
          [
           0,
           "rgb(255,255,217)"
          ],
          [
           0.125,
           "rgb(237,248,177)"
          ],
          [
           0.25,
           "rgb(199,233,180)"
          ],
          [
           0.375,
           "rgb(127,205,187)"
          ],
          [
           0.5,
           "rgb(65,182,196)"
          ],
          [
           0.625,
           "rgb(29,145,192)"
          ],
          [
           0.75,
           "rgb(34,94,168)"
          ],
          [
           0.875,
           "rgb(37,52,148)"
          ],
          [
           1,
           "rgb(8,29,88)"
          ]
         ]
        },
        "margin": {
         "t": 60
        },
        "template": {
         "data": {
          "candlestick": [
           {
            "decreasing": {
             "line": {
              "color": "#000033"
             }
            },
            "increasing": {
             "line": {
              "color": "#000032"
             }
            },
            "type": "candlestick"
           }
          ],
          "contour": [
           {
            "colorscale": [
             [
              0,
              "#000011"
             ],
             [
              0.1111111111111111,
              "#000012"
             ],
             [
              0.2222222222222222,
              "#000013"
             ],
             [
              0.3333333333333333,
              "#000014"
             ],
             [
              0.4444444444444444,
              "#000015"
             ],
             [
              0.5555555555555556,
              "#000016"
             ],
             [
              0.6666666666666666,
              "#000017"
             ],
             [
              0.7777777777777778,
              "#000018"
             ],
             [
              0.8888888888888888,
              "#000019"
             ],
             [
              1,
              "#000020"
             ]
            ],
            "type": "contour"
           }
          ],
          "contourcarpet": [
           {
            "colorscale": [
             [
              0,
              "#000011"
             ],
             [
              0.1111111111111111,
              "#000012"
             ],
             [
              0.2222222222222222,
              "#000013"
             ],
             [
              0.3333333333333333,
              "#000014"
             ],
             [
              0.4444444444444444,
              "#000015"
             ],
             [
              0.5555555555555556,
              "#000016"
             ],
             [
              0.6666666666666666,
              "#000017"
             ],
             [
              0.7777777777777778,
              "#000018"
             ],
             [
              0.8888888888888888,
              "#000019"
             ],
             [
              1,
              "#000020"
             ]
            ],
            "type": "contourcarpet"
           }
          ],
          "heatmap": [
           {
            "colorscale": [
             [
              0,
              "#000011"
             ],
             [
              0.1111111111111111,
              "#000012"
             ],
             [
              0.2222222222222222,
              "#000013"
             ],
             [
              0.3333333333333333,
              "#000014"
             ],
             [
              0.4444444444444444,
              "#000015"
             ],
             [
              0.5555555555555556,
              "#000016"
             ],
             [
              0.6666666666666666,
              "#000017"
             ],
             [
              0.7777777777777778,
              "#000018"
             ],
             [
              0.8888888888888888,
              "#000019"
             ],
             [
              1,
              "#000020"
             ]
            ],
            "type": "heatmap"
           }
          ],
          "histogram2d": [
           {
            "colorscale": [
             [
              0,
              "#000011"
             ],
             [
              0.1111111111111111,
              "#000012"
             ],
             [
              0.2222222222222222,
              "#000013"
             ],
             [
              0.3333333333333333,
              "#000014"
             ],
             [
              0.4444444444444444,
              "#000015"
             ],
             [
              0.5555555555555556,
              "#000016"
             ],
             [
              0.6666666666666666,
              "#000017"
             ],
             [
              0.7777777777777778,
              "#000018"
             ],
             [
              0.8888888888888888,
              "#000019"
             ],
             [
              1,
              "#000020"
             ]
            ],
            "type": "histogram2d"
           }
          ],
          "icicle": [
           {
            "textfont": {
             "color": "white"
            },
            "type": "icicle"
           }
          ],
          "sankey": [
           {
            "textfont": {
             "color": "#000036"
            },
            "type": "sankey"
           }
          ],
          "scatter": [
           {
            "marker": {
             "line": {
              "width": 0
             }
            },
            "type": "scatter"
           }
          ],
          "table": [
           {
            "cells": {
             "fill": {
              "color": "#000038"
             },
             "font": {
              "color": "#000037"
             },
             "line": {
              "color": "#000039"
             }
            },
            "header": {
             "fill": {
              "color": "#000040"
             },
             "font": {
              "color": "#000036"
             },
             "line": {
              "color": "#000039"
             }
            },
            "type": "table"
           }
          ],
          "waterfall": [
           {
            "connector": {
             "line": {
              "color": "#000036",
              "width": 2
             }
            },
            "decreasing": {
             "marker": {
              "color": "#000033"
             }
            },
            "increasing": {
             "marker": {
              "color": "#000032"
             }
            },
            "totals": {
             "marker": {
              "color": "#000034"
             }
            },
            "type": "waterfall"
           }
          ]
         },
         "layout": {
          "coloraxis": {
           "colorscale": [
            [
             0,
             "#000011"
            ],
            [
             0.1111111111111111,
             "#000012"
            ],
            [
             0.2222222222222222,
             "#000013"
            ],
            [
             0.3333333333333333,
             "#000014"
            ],
            [
             0.4444444444444444,
             "#000015"
            ],
            [
             0.5555555555555556,
             "#000016"
            ],
            [
             0.6666666666666666,
             "#000017"
            ],
            [
             0.7777777777777778,
             "#000018"
            ],
            [
             0.8888888888888888,
             "#000019"
            ],
            [
             1,
             "#000020"
            ]
           ]
          },
          "colorscale": {
           "diverging": [
            [
             0,
             "#000021"
            ],
            [
             0.1,
             "#000022"
            ],
            [
             0.2,
             "#000023"
            ],
            [
             0.3,
             "#000024"
            ],
            [
             0.4,
             "#000025"
            ],
            [
             0.5,
             "#000026"
            ],
            [
             0.6,
             "#000027"
            ],
            [
             0.7,
             "#000028"
            ],
            [
             0.8,
             "#000029"
            ],
            [
             0.9,
             "#000030"
            ],
            [
             1,
             "#000031"
            ]
           ],
           "sequential": [
            [
             0,
             "#000011"
            ],
            [
             0.1111111111111111,
             "#000012"
            ],
            [
             0.2222222222222222,
             "#000013"
            ],
            [
             0.3333333333333333,
             "#000014"
            ],
            [
             0.4444444444444444,
             "#000015"
            ],
            [
             0.5555555555555556,
             "#000016"
            ],
            [
             0.6666666666666666,
             "#000017"
            ],
            [
             0.7777777777777778,
             "#000018"
            ],
            [
             0.8888888888888888,
             "#000019"
            ],
            [
             1,
             "#000020"
            ]
           ],
           "sequentialminus": [
            [
             0,
             "#000011"
            ],
            [
             0.1111111111111111,
             "#000012"
            ],
            [
             0.2222222222222222,
             "#000013"
            ],
            [
             0.3333333333333333,
             "#000014"
            ],
            [
             0.4444444444444444,
             "#000015"
            ],
            [
             0.5555555555555556,
             "#000016"
            ],
            [
             0.6666666666666666,
             "#000017"
            ],
            [
             0.7777777777777778,
             "#000018"
            ],
            [
             0.8888888888888888,
             "#000019"
            ],
            [
             1,
             "#000020"
            ]
           ]
          },
          "colorway": [
           "#000001",
           "#000002",
           "#000003",
           "#000004",
           "#000005",
           "#000006",
           "#000007",
           "#000008",
           "#000009",
           "#000010"
          ]
         }
        },
        "title": {
         "text": "Similarity Fraction at Threshold 0.75 - all_MiniLM_L6_v2"
        },
        "xaxis": {
         "anchor": "y",
         "constrain": "domain",
         "domain": [
          0,
          1
         ],
         "scaleanchor": "y",
         "title": {
          "text": "Texts"
         }
        },
        "yaxis": {
         "anchor": "x",
         "autorange": "reversed",
         "constrain": "domain",
         "domain": [
          0,
          1
         ],
         "title": {
          "text": "Texts"
         }
        }
       }
      }
     },
     "metadata": {},
     "output_type": "display_data"
    }
   ],
   "source": [
    "for encoder_model in encoder_models:\n",
    "\n",
    "    plot_heatmap_for_cross_text_consistency(cross_text_consistency_formula_2[encoder_model], encoder_model)\n",
    "    plot_heatmap_for_similarity_fraction_plotly(cross_text_consistency_formula_2[encoder_model], encoder_model)"
   ]
  },
  {
   "cell_type": "code",
   "execution_count": 114,
   "metadata": {},
   "outputs": [
    {
     "data": {
      "text/plain": [
       "{'jina_clip_v1': {'Torah': {'Torah': 0.0006532168051396745,\n",
       "   'Quran': 0.0,\n",
       "   'Bible_NT': 7.086964615258141e-07,\n",
       "   'Gita': 0.0,\n",
       "   'Analects': 0.0},\n",
       "  'Quran': {'Torah': 0.0,\n",
       "   'Quran': 0.00024357318571920536,\n",
       "   'Bible_NT': 0.0,\n",
       "   'Gita': 0.0,\n",
       "   'Analects': 0.0},\n",
       "  'Bible_NT': {'Torah': 6.442695104780127e-07,\n",
       "   'Quran': 0.0,\n",
       "   'Bible_NT': 0.0001668197427074762,\n",
       "   'Gita': 0.0,\n",
       "   'Analects': 0.0},\n",
       "  'Gita': {'Torah': 0.0,\n",
       "   'Quran': 0.0,\n",
       "   'Bible_NT': 0.0,\n",
       "   'Gita': 0.001728,\n",
       "   'Analects': 0.0},\n",
       "  'Analects': {'Torah': 0.0,\n",
       "   'Quran': 0.0,\n",
       "   'Bible_NT': 0.0,\n",
       "   'Gita': 0.0,\n",
       "   'Analects': 0.0022634477363325115}},\n",
       " 'all_MiniLM_L6_v2': {'Torah': {'Torah': 0.0008280114316736974,\n",
       "   'Quran': 1.6989526121560828e-06,\n",
       "   'Bible_NT': 1.5032955244486964e-06,\n",
       "   'Gita': 0.0,\n",
       "   'Analects': 0.0},\n",
       "  'Quran': {'Torah': 1.6989526121560828e-06,\n",
       "   'Quran': 0.00023855874619056885,\n",
       "   'Bible_NT': 0.0,\n",
       "   'Gita': 0.0,\n",
       "   'Analects': 0.0},\n",
       "  'Bible_NT': {'Torah': 1.5032955244486964e-06,\n",
       "   'Quran': 0.0,\n",
       "   'Bible_NT': 0.00017808110197186085,\n",
       "   'Gita': 0.0,\n",
       "   'Analects': 0.0},\n",
       "  'Gita': {'Torah': 0.0,\n",
       "   'Quran': 0.0,\n",
       "   'Bible_NT': 0.0,\n",
       "   'Gita': 0.0017536,\n",
       "   'Analects': 0.0},\n",
       "  'Analects': {'Torah': 0.0,\n",
       "   'Quran': 0.0,\n",
       "   'Bible_NT': 0.0,\n",
       "   'Gita': 0.0,\n",
       "   'Analects': 0.00275569268093298}}}"
      ]
     },
     "execution_count": 114,
     "metadata": {},
     "output_type": "execute_result"
    }
   ],
   "source": [
    "similarity_fraction_at_threshold_dict"
   ]
  },
  {
   "cell_type": "code",
   "execution_count": 115,
   "metadata": {},
   "outputs": [
    {
     "data": {
      "text/plain": [
       "{'jina_clip_v1': {'Torah': {'Torah': 0.0006532168051396745,\n",
       "   'Quran': 0.0,\n",
       "   'Bible_NT': 1.5941485094009858e-05,\n",
       "   'Gita': 0.0,\n",
       "   'Analects': 0.0},\n",
       "  'Quran': {'Torah': 0.0,\n",
       "   'Quran': 0.00024357318571920536,\n",
       "   'Bible_NT': 0.0,\n",
       "   'Gita': 0.0,\n",
       "   'Analects': 0.0},\n",
       "  'Bible_NT': {'Torah': 1.5941485094009858e-05,\n",
       "   'Quran': 0.0,\n",
       "   'Bible_NT': 0.0001668197427074762,\n",
       "   'Gita': 0.0,\n",
       "   'Analects': 0.0},\n",
       "  'Gita': {'Torah': 0.0,\n",
       "   'Quran': 0.0,\n",
       "   'Bible_NT': 0.0,\n",
       "   'Gita': 0.001728,\n",
       "   'Analects': 0.0},\n",
       "  'Analects': {'Torah': 0.0,\n",
       "   'Quran': 0.0,\n",
       "   'Bible_NT': 0.0,\n",
       "   'Gita': 0.0,\n",
       "   'Analects': 0.0022634477363325115}},\n",
       " 'all_MiniLM_L6_v2': {'Torah': {'Torah': 0.0008280114316736974,\n",
       "   'Quran': 2.8819379650237103e-05,\n",
       "   'Bible_NT': 2.582137853601666e-05,\n",
       "   'Gita': 0.0,\n",
       "   'Analects': 0.0},\n",
       "  'Quran': {'Torah': 2.8819379650237103e-05,\n",
       "   'Quran': 0.00023855874619056885,\n",
       "   'Bible_NT': 0.0,\n",
       "   'Gita': 0.0,\n",
       "   'Analects': 0.0},\n",
       "  'Bible_NT': {'Torah': 2.582137853601666e-05,\n",
       "   'Quran': 0.0,\n",
       "   'Bible_NT': 0.00017808110197186085,\n",
       "   'Gita': 0.0,\n",
       "   'Analects': 0.0},\n",
       "  'Gita': {'Torah': 0.0,\n",
       "   'Quran': 0.0,\n",
       "   'Bible_NT': 0.0,\n",
       "   'Gita': 0.0017536,\n",
       "   'Analects': 0.0},\n",
       "  'Analects': {'Torah': 0.0,\n",
       "   'Quran': 0.0,\n",
       "   'Bible_NT': 0.0,\n",
       "   'Gita': 0.0,\n",
       "   'Analects': 0.00275569268093298}}}"
      ]
     },
     "execution_count": 115,
     "metadata": {},
     "output_type": "execute_result"
    }
   ],
   "source": [
    "cross_text_consistency_formula_2"
   ]
  },
  {
   "cell_type": "code",
   "execution_count": 162,
   "metadata": {},
   "outputs": [],
   "source": [
    "def plot_connected_graph(data, model_name):\n",
    "    G = nx.DiGraph()  # Create a directed graph\n",
    "\n",
    "    # Populate the graph with edges and their weights\n",
    "    edges = []\n",
    "    for source, targets_dict in data[model_name].items():\n",
    "        for target, value in targets_dict.items():\n",
    "            if value > 0:\n",
    "                G.add_edge(source, target, weight=value*1000)\n",
    "                edges.append((source, target, value))\n",
    "\n",
    "    # Get edge values for color mapping\n",
    "    edge_values = np.array([weight for _, _, weight in edges])\n",
    "    norm = plt.Normalize(edge_values.min(), edge_values.max())  # Normalize for colormap\n",
    "    colors = plt.cm.viridis(norm(edge_values))  # Use the viridis colormap\n",
    "\n",
    "    # Position nodes using circular layout\n",
    "    num_nodes = len(G.nodes())\n",
    "    # Position nodes evenly on a circle\n",
    "    angles = np.linspace(np.pi/2, 2* np.pi + np.pi/2, num_nodes, endpoint=False)  # Angles for nodes\n",
    "    pos = {node: (np.cos(angle), np.sin(angle)) for node, angle in zip(G.nodes(), angles)}  # (x, y) positions\n",
    "\n",
    "\n",
    "    # Draw the graph with colored edges\n",
    "    plt.figure(figsize=(7, 5))\n",
    "    nx.draw(G, pos, with_labels=True, node_color='lightblue', node_size=2000, font_size=10, font_weight='bold', arrows=True, edge_color=colors[:, :3])\n",
    "\n",
    "    # Draw edge labels\n",
    "    edge_labels = {(source, target): f'{value:.4f}' for source, target, value in edges}\n",
    "    # nx.draw_networkx_edge_labels(G, pos, edge_labels=edge_labels)\n",
    "    \n",
    "    plt.title('Intertext Similarity Graph - threshold 0.75 - '+ model_name)\n"
   ]
  },
  {
   "cell_type": "code",
   "execution_count": 163,
   "metadata": {},
   "outputs": [
    {
     "data": {
      "image/png": "[encoded data removed]",
      "text/plain": [
       "<Figure size 700x500 with 1 Axes>"
      ]
     },
     "metadata": {},
     "output_type": "display_data"
    },
    {
     "data": {
      "image/png": "[encoded data removed]",
      "text/plain": [
       "<Figure size 700x500 with 1 Axes>"
      ]
     },
     "metadata": {},
     "output_type": "display_data"
    }
   ],
   "source": [
    "for encoder_model in encoder_models:\n",
    "    plot_connected_graph(similarity_fraction_at_threshold_dict,encoder_model )"
   ]
  },
  {
   "cell_type": "code",
   "execution_count": 131,
   "metadata": {},
   "outputs": [
    {
     "name": "stdout",
     "output_type": "stream",
     "text": [
      "Main Diagonal for jina_clip_v1: [0.0006532168051396745, 0.00024357318571920536, 0.0001668197427074762, 0.001728, 0.0022634477363325115]\n",
      "Secondary Diagonal for jina_clip_v1: [0.0, 0.0, 0.0001668197427074762, 0.0, 0.0]\n",
      "Main Diagonal for all_MiniLM_L6_v2: [0.0008280114316736974, 0.00023855874619056885, 0.00017808110197186085, 0.0017536, 0.00275569268093298]\n",
      "Secondary Diagonal for all_MiniLM_L6_v2: [0.0, 0.0, 0.00017808110197186085, 0.0, 0.0]\n"
     ]
    }
   ],
   "source": [
    "# Function to extract diagonals\n",
    "def get_diagonals(data, model_name):\n",
    "    main_diagonal = []\n",
    "    secondary_diagonal = []\n",
    "    \n",
    "    keys = list(data[model_name].keys())\n",
    "    n = len(keys)\n",
    "\n",
    "    for i in range(n):\n",
    "        # Main diagonal (i, i)\n",
    "        main_diagonal.append(data[model_name][keys[i]][keys[i]])\n",
    "        \n",
    "        # Secondary diagonal (i, n-i-1)\n",
    "        secondary_diagonal.append(data[model_name][keys[i]][keys[n-i-1]])\n",
    "    \n",
    "    return main_diagonal, secondary_diagonal\n",
    "\n",
    "# Get diagonals for both models\n",
    "main_diag_jina, sec_diag_jina = get_diagonals(similarity_fraction_at_threshold_dict, 'jina_clip_v1')\n",
    "main_diag_all, sec_diag_all = get_diagonals(similarity_fraction_at_threshold_dict, 'all_MiniLM_L6_v2')\n",
    "\n",
    "print(\"Main Diagonal for jina_clip_v1:\", main_diag_jina)\n",
    "print(\"Secondary Diagonal for jina_clip_v1:\", sec_diag_jina)\n",
    "\n",
    "print(\"Main Diagonal for all_MiniLM_L6_v2:\", main_diag_all)\n",
    "print(\"Secondary Diagonal for all_MiniLM_L6_v2:\", sec_diag_all)"
   ]
  },
  {
   "cell_type": "code",
   "execution_count": 164,
   "metadata": {},
   "outputs": [
    {
     "data": {
      "text/plain": [
       "(array([0.    , 0.0005, 0.001 , 0.0015, 0.002 , 0.0025, 0.003 ]),\n",
       " [Text(0, 0.0, '0.0000'),\n",
       "  Text(0, 0.0005, '0.0005'),\n",
       "  Text(0, 0.001, '0.0010'),\n",
       "  Text(0, 0.0015, '0.0015'),\n",
       "  Text(0, 0.002, '0.0020'),\n",
       "  Text(0, 0.0025, '0.0025'),\n",
       "  Text(0, 0.003, '0.0030')])"
      ]
     },
     "execution_count": 164,
     "metadata": {},
     "output_type": "execute_result"
    },
    {
     "data": {
      "image/png": "[encoded data removed]",
      "text/plain": [
       "<Figure size 1200x800 with 1 Axes>"
      ]
     },
     "metadata": {},
     "output_type": "display_data"
    }
   ],
   "source": [
    "# Prepare data for DataFrame\n",
    "models =  ['all_MiniLM_L6_v2'] * len(main_diag_all) + ['jina_clip_v1'] * len(main_diag_jina) \n",
    "books = [\"Bible_NT\", \"Quran\", \"Torah\", \"Gita\", \"Analects\"]  + [\"Bible_NT\", \"Quran\", \"Torah\", \"Gita\", \"Analects\"]\n",
    "values =  main_diag_all + main_diag_jina \n",
    "\n",
    "# Create a DataFrame for better manipulation\n",
    "df = pd.DataFrame({\n",
    "    'Books': books,\n",
    "    'Model': models,\n",
    "    'Value': values\n",
    "})\n",
    "\n",
    "# Plotting\n",
    "plt.figure(figsize=(12, 8))\n",
    "sns.set_style(\"whitegrid\")\n",
    "\n",
    "# Create the bar plot\n",
    "bars = sns.barplot(x='Books', y='Value', hue='Model', data=df, palette=[  \"#4C72B0\", \"#55A868\"])\n",
    "\n",
    "# Customize the plot further\n",
    "plt.title(\"Intratext Similarity at threshold 0.75\", fontsize=16)\n",
    "plt.xlabel(\"Tokens\", fontsize=13)\n",
    "plt.ylabel(\"Values\", fontsize=13)\n",
    "plt.xticks(rotation=45, fontsize=11)\n",
    "plt.yticks(fontsize=11)\n"
   ]
  },
  {
   "cell_type": "code",
   "execution_count": 165,
   "metadata": {},
   "outputs": [
    {
     "data": {
      "text/plain": [
       "<Figure size 1200x800 with 0 Axes>"
      ]
     },
     "metadata": {},
     "output_type": "display_data"
    },
    {
     "data": {
      "image/png": "[encoded data removed]",
      "text/plain": [
       "<Figure size 1200x800 with 1 Axes>"
      ]
     },
     "metadata": {},
     "output_type": "display_data"
    }
   ],
   "source": [
    "plt.figure(figsize=(12, 8))\n",
    "sns.set_style(\"whitegrid\")\n",
    "\n",
    "# Set up the bar plot\n",
    "x = np.arange(len(books) // 2)  # Label locations\n",
    "width = 0.35  # The width of the bars\n",
    "\n",
    "fig, ax = plt.subplots(figsize=(12, 8))\n",
    "rects1 = ax.bar(x - width / 2, main_diag_all, width, label=\"all_MiniLM_L6_v2\", color=\"#4C72B0\")\n",
    "rects2 = ax.bar(x + width / 2, main_diag_jina, width, label=\"jina_clip_v1\", color=\"#55A868\")\n",
    "\n",
    "# Add some text for labels, title, and custom x-axis tick labels\n",
    "ax.set_xlabel(\"Books\", fontsize=14)\n",
    "ax.set_ylabel(\"Intratext Similarity at threshold 0.75\", fontsize=14)\n",
    "ax.set_title(\"Intratext Similarity\", fontsize=16)\n",
    "ax.set_xticks(x)\n",
    "ax.set_xticklabels(books[:len(books)//2])  # Show books only once in the x-ticks\n",
    "ax.legend(fontsize=12)\n",
    "\n",
    "# Add a grid for better readability\n",
    "ax.yaxis.grid(True, linestyle=\"--\", alpha=0.7)\n",
    "ax.xaxis.grid(False)  # Turn off vertical grid lines\n",
    "\n",
    "# Annotate bars with values\n",
    "ax.bar_label(rects1, padding=3, fmt=\"%.6f\", fontsize=10)\n",
    "ax.bar_label(rects2, padding=3, fmt=\"%.6f\", fontsize=10)\n",
    "\n",
    "# Make the plot more compact\n",
    "plt.tight_layout()\n",
    "plt.show()"
   ]
  },
  {
   "cell_type": "code",
   "execution_count": 137,
   "metadata": {},
   "outputs": [
    {
     "data": {
      "text/plain": [
       "{'jina_clip_v1': {'Torah': {'Torah': 0.0006532168051396745,\n",
       "   'Quran': 0.0,\n",
       "   'Bible_NT': 7.086964615258141e-07,\n",
       "   'Gita': 0.0,\n",
       "   'Analects': 0.0},\n",
       "  'Quran': {'Torah': 0.0,\n",
       "   'Quran': 0.00024357318571920536,\n",
       "   'Bible_NT': 0.0,\n",
       "   'Gita': 0.0,\n",
       "   'Analects': 0.0},\n",
       "  'Bible_NT': {'Torah': 6.442695104780127e-07,\n",
       "   'Quran': 0.0,\n",
       "   'Bible_NT': 0.0001668197427074762,\n",
       "   'Gita': 0.0,\n",
       "   'Analects': 0.0},\n",
       "  'Gita': {'Torah': 0.0,\n",
       "   'Quran': 0.0,\n",
       "   'Bible_NT': 0.0,\n",
       "   'Gita': 0.001728,\n",
       "   'Analects': 0.0},\n",
       "  'Analects': {'Torah': 0.0,\n",
       "   'Quran': 0.0,\n",
       "   'Bible_NT': 0.0,\n",
       "   'Gita': 0.0,\n",
       "   'Analects': 0.0022634477363325115}},\n",
       " 'all_MiniLM_L6_v2': {'Torah': {'Torah': 0.0008280114316736974,\n",
       "   'Quran': 1.6989526121560828e-06,\n",
       "   'Bible_NT': 1.5032955244486964e-06,\n",
       "   'Gita': 0.0,\n",
       "   'Analects': 0.0},\n",
       "  'Quran': {'Torah': 1.6989526121560828e-06,\n",
       "   'Quran': 0.00023855874619056885,\n",
       "   'Bible_NT': 0.0,\n",
       "   'Gita': 0.0,\n",
       "   'Analects': 0.0},\n",
       "  'Bible_NT': {'Torah': 1.5032955244486964e-06,\n",
       "   'Quran': 0.0,\n",
       "   'Bible_NT': 0.00017808110197186085,\n",
       "   'Gita': 0.0,\n",
       "   'Analects': 0.0},\n",
       "  'Gita': {'Torah': 0.0,\n",
       "   'Quran': 0.0,\n",
       "   'Bible_NT': 0.0,\n",
       "   'Gita': 0.0017536,\n",
       "   'Analects': 0.0},\n",
       "  'Analects': {'Torah': 0.0,\n",
       "   'Quran': 0.0,\n",
       "   'Bible_NT': 0.0,\n",
       "   'Gita': 0.0,\n",
       "   'Analects': 0.00275569268093298}}}"
      ]
     },
     "execution_count": 137,
     "metadata": {},
     "output_type": "execute_result"
    }
   ],
   "source": [
    "{'jina_clip_v1': {'Torah': {'Torah': 0.0006532168051396745,\n",
    "   'Quran': 0.0,\n",
    "   'Bible_NT': 7.086964615258141e-07,\n",
    "   'Gita': 0.0,\n",
    "   'Analects': 0.0},\n",
    "  'Quran': {'Torah': 0.0,\n",
    "   'Quran': 0.00024357318571920536,\n",
    "   'Bible_NT': 0.0,\n",
    "   'Gita': 0.0,\n",
    "   'Analects': 0.0},\n",
    "  'Bible_NT': {'Torah': 6.442695104780127e-07,\n",
    "   'Quran': 0.0,\n",
    "   'Bible_NT': 0.0001668197427074762,\n",
    "   'Gita': 0.0,\n",
    "   'Analects': 0.0},\n",
    "  'Gita': {'Torah': 0.0,\n",
    "   'Quran': 0.0,\n",
    "   'Bible_NT': 0.0,\n",
    "   'Gita': 0.001728,\n",
    "   'Analects': 0.0},\n",
    "  'Analects': {'Torah': 0.0,\n",
    "   'Quran': 0.0,\n",
    "   'Bible_NT': 0.0,\n",
    "   'Gita': 0.0,\n",
    "   'Analects': 0.0022634477363325115}},\n",
    " 'all_MiniLM_L6_v2': {'Torah': {'Torah': 0.0008280114316736974,\n",
    "   'Quran': 1.6989526121560828e-06,\n",
    "   'Bible_NT': 1.5032955244486964e-06,\n",
    "   'Gita': 0.0,\n",
    "   'Analects': 0.0},\n",
    "  'Quran': {'Torah': 1.6989526121560828e-06,\n",
    "   'Quran': 0.00023855874619056885,\n",
    "   'Bible_NT': 0.0,\n",
    "   'Gita': 0.0,\n",
    "   'Analects': 0.0},\n",
    "  'Bible_NT': {'Torah': 1.5032955244486964e-06,\n",
    "   'Quran': 0.0,\n",
    "   'Bible_NT': 0.00017808110197186085,\n",
    "   'Gita': 0.0,\n",
    "   'Analects': 0.0},\n",
    "  'Gita': {'Torah': 0.0,\n",
    "   'Quran': 0.0,\n",
    "   'Bible_NT': 0.0,\n",
    "   'Gita': 0.0017536,\n",
    "   'Analects': 0.0},\n",
    "  'Analects': {'Torah': 0.0,\n",
    "   'Quran': 0.0,\n",
    "   'Bible_NT': 0.0,\n",
    "   'Gita': 0.0,\n",
    "   'Analects': 0.00275569268093298}}}"
   ]
  },
  {
   "cell_type": "code",
   "execution_count": null,
   "metadata": {},
   "outputs": [],
   "source": [
    "{'jina_clip_v1': {'Torah': {'Torah': 0.0006532168051396745,\n",
    "   'Quran': 0.0,\n",
    "   'Bible_NT': 1.5941485094009858e-05,\n",
    "   'Gita': 0.0,\n",
    "   'Analects': 0.0},\n",
    "  'Quran': {'Torah': 0.0,\n",
    "   'Quran': 0.00024357318571920536,\n",
    "   'Bible_NT': 0.0,\n",
    "   'Gita': 0.0,\n",
    "   'Analects': 0.0},\n",
    "  'Bible_NT': {'Torah': 1.5941485094009858e-05,\n",
    "   'Quran': 0.0,\n",
    "   'Bible_NT': 0.0001668197427074762,\n",
    "   'Gita': 0.0,\n",
    "   'Analects': 0.0},\n",
    "  'Gita': {'Torah': 0.0,\n",
    "   'Quran': 0.0,\n",
    "   'Bible_NT': 0.0,\n",
    "   'Gita': 0.001728,\n",
    "   'Analects': 0.0},\n",
    "  'Analects': {'Torah': 0.0,\n",
    "   'Quran': 0.0,\n",
    "   'Bible_NT': 0.0,\n",
    "   'Gita': 0.0,\n",
    "   'Analects': 0.0022634477363325115}},\n",
    " 'all_MiniLM_L6_v2': {'Torah': {'Torah': 0.0008280114316736974,\n",
    "   'Quran': 2.8819379650237103e-05,\n",
    "   'Bible_NT': 2.582137853601666e-05,\n",
    "   'Gita': 0.0,\n",
    "   'Analects': 0.0},\n",
    "  'Quran': {'Torah': 2.8819379650237103e-05,\n",
    "   'Quran': 0.00023855874619056885,\n",
    "   'Bible_NT': 0.0,\n",
    "   'Gita': 0.0,\n",
    "   'Analects': 0.0},\n",
    "  'Bible_NT': {'Torah': 2.582137853601666e-05,\n",
    "   'Quran': 0.0,\n",
    "   'Bible_NT': 0.00017808110197186085,\n",
    "   'Gita': 0.0,\n",
    "   'Analects': 0.0},\n",
    "  'Gita': {'Torah': 0.0,\n",
    "   'Quran': 0.0,\n",
    "   'Bible_NT': 0.0,\n",
    "   'Gita': 0.0017536,\n",
    "   'Analects': 0.0},\n",
    "  'Analects': {'Torah': 0.0,\n",
    "   'Quran': 0.0,\n",
    "   'Bible_NT': 0.0,\n",
    "   'Gita': 0.0,\n",
    "   'Analects': 0.00275569268093298}}}"
   ]
  }
 ],
 "metadata": {
  "kernelspec": {
   "display_name": ".env",
   "language": "python",
   "name": "python3"
  },
  "language_info": {
   "codemirror_mode": {
    "name": "ipython",
    "version": 3
   },
   "file_extension": ".py",
   "mimetype": "text/x-python",
   "name": "python",
   "nbconvert_exporter": "python",
   "pygments_lexer": "ipython3",
   "version": "3.9.19"
  }
 },
 "nbformat": 4,
 "nbformat_minor": 2
}
