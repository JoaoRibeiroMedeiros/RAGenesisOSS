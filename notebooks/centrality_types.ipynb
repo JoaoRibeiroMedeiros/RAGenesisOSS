{
 "cells": [
  {
   "cell_type": "code",
   "execution_count": null,
   "metadata": {},
   "outputs": [],
   "source": [
    "\n",
    "%load_ext autoreload\n",
    "%autoreload 2\n",
    "\n",
    "import networkx as nx\n",
    "from src.retriever import *\n",
    "from src.rust_network import RustNetworkAnalysis, get_verse_rust_network\n",
    "from src.network_plots import (\n",
    "    get_target_verses,\n",
    "    get_target_node_subgraph,\n",
    "    plot_centrality_based_subgraph,\n",
    ")\n",
    "from src.utils import connect_and_load_milvus_collection\n",
    "\n",
    "\n",
    "\n",
    "texts = [\"Bible_NT\", \"Quran\", \"Torah\", \"Gita\", \"Analects\"]  # \"Bible\",\n",
    "\n",
    "# encoder_model = \"jina_clip_v1\"\n",
    "encoder_model = \"all_MiniLM_L6_v2\"\n",
    "\n",
    "collection = connect_and_load_milvus_collection(public_ip=\"23.20.119.96\",encoder_model=encoder_model)\n",
    "\n",
    "parameter = \"05_threshold\"\n",
    "similarity_threshold = 0.5\n",
    "\n",
    "# parameter = \"075_threshold\"\n",
    "# similarity_threshold = 0.75\n",
    "\n",
    "parameter_path_dict = {\"0.5\" : \"05_threshold\" , \"0.75\" : \"075_threshold\"}"
   ]
  },
  {
   "cell_type": "code",
   "execution_count": 3,
   "metadata": {},
   "outputs": [
    {
     "name": "stderr",
     "output_type": "stream",
     "text": [
      "100%|██████████| 625/625 [01:54<00:00,  5.46it/s]\n"
     ]
    },
    {
     "name": "stdout",
     "output_type": "stream",
     "text": [
      "Calculating average Degree\n",
      "Running average clustering coefficient\n",
      "Running network density\n",
      "Running average path length\n",
      "Running average degree centrality\n",
      "Running average betweenness centrality\n",
      "Running average closeness centrality\n",
      "Running average eigenvector centrality\n",
      "Running get component length histogram\n",
      "Calculating highest degree centrality\n",
      "Calculating highest betweenness centrality\n",
      "Calculating highest closeness centrality\n",
      "Calculating highest eigenvector centrality\n",
      "Calculating degree centrality histogram\n",
      "Calculating betweenness centrality histogram\n",
      "Calculating closeness centrality histogram\n",
      "Calculating eigenvector centrality histogram\n"
     ]
    }
   ],
   "source": [
    "text='Gita'\n",
    "\n",
    "target_verses = get_target_verses(texts=[text], collection=collection, encoder_model=encoder_model)\n",
    "\n",
    "G_rust = get_verse_rust_network(\n",
    "    collection,\n",
    "    [text],\n",
    "    target_verses,\n",
    "    encoder_model=encoder_model,\n",
    "    similarity_threshold=similarity_threshold,\n",
    ")\n",
    "\n",
    "rust_analysis = RustNetworkAnalysis(\n",
    "    G_rust, encoder_model=encoder_model, parameter=parameter\n",
    ")\n",
    "\n",
    "rust_analysis.run()\n",
    "rust_analysis.run_stats()\n",
    "special_nodes = rust_analysis.get_special_nodes()\n",
    "(\n",
    "    degree_centrality_verse,\n",
    "    betweenness_centrality_verse,\n",
    "    closeness_centrality_verse,\n",
    "    eigenvector_centrality_verse,\n",
    ") = rust_analysis.get_special_verses(target_verses)"
   ]
  },
  {
   "cell_type": "code",
   "execution_count": 4,
   "metadata": {},
   "outputs": [],
   "source": [
    "betweenness_centrality_verse_index = rust_analysis.calculate_highest_betweenness_centrality_index()\n",
    "closeness_centrality_verse_index  = rust_analysis.calculate_highest_closeness_centrality_index()\n",
    "degree_centrality_verse_index = rust_analysis.calculate_highest_degree_centrality_index()"
   ]
  },
  {
   "cell_type": "code",
   "execution_count": 7,
   "metadata": {},
   "outputs": [],
   "source": [
    "from src.network_plots import get_target_node_subgraph\n",
    "\n",
    "methods = [\"closeness\", \"betweenness\", \"degree\", \"eigenvector\"]\n",
    " \n",
    "for method in methods : \n",
    "    centrality_subgraph, nodes_to_include, centrality_dict, nodes_data = get_target_node_subgraph(G_rust, closeness_centrality_verse_index,method=method, lim_neighbors=100)\n",
    "\n",
    "    plot_centrality_based_subgraph(\n",
    "        text,\n",
    "        centrality_subgraph,\n",
    "        nodes_data,\n",
    "        nodes_to_include,\n",
    "        centrality_dict,\n",
    "        save=True,\n",
    "        file_path=\"data/analytics_data/\" + encoder_model + \"/\" + parameter + \"/centrality_types/\"+method,\n",
    "        include_labels=False\n",
    "    )"
   ]
  },
  {
   "cell_type": "code",
   "execution_count": null,
   "metadata": {},
   "outputs": [],
   "source": []
  }
 ],
 "metadata": {
  "kernelspec": {
   "display_name": ".env",
   "language": "python",
   "name": "python3"
  },
  "language_info": {
   "codemirror_mode": {
    "name": "ipython",
    "version": 3
   },
   "file_extension": ".py",
   "mimetype": "text/x-python",
   "name": "python",
   "nbconvert_exporter": "python",
   "pygments_lexer": "ipython3",
   "version": "3.9.19"
  }
 },
 "nbformat": 4,
 "nbformat_minor": 2
}
